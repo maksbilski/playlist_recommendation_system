{
 "cells": [
  {
   "cell_type": "code",
   "execution_count": 1,
   "id": "8403751e-f91a-4b73-852b-3c4c1d57dace",
   "metadata": {},
   "outputs": [],
   "source": [
    "from data.data_split import split_data"
   ]
  },
  {
   "cell_type": "code",
   "execution_count": 2,
   "id": "6bd360b8-f085-41d1-abfa-4e0e9eace3f5",
   "metadata": {},
   "outputs": [],
   "source": [
    "from data.data_processing import SessionDataProcessor\n",
    "import pandas as pd\n",
    "\n",
    "\n",
    "df = pd.read_json('data_files/sessions.jsonl', lines=True)"
   ]
  },
  {
   "cell_type": "code",
   "execution_count": 3,
   "id": "1ba3df10-b11d-4f7e-a136-ed13ab7868c7",
   "metadata": {},
   "outputs": [],
   "source": [
    "train_data, val_data, test_data = split_data(df)"
   ]
  },
  {
   "cell_type": "code",
   "execution_count": 4,
   "id": "6b94c07d-bdef-4936-86b4-0642efdfb826",
   "metadata": {},
   "outputs": [],
   "source": [
    "session_data_processor = SessionDataProcessor()\n",
    "train_data_processed = session_data_processor.prepare_training_data(train_data)\n",
    "val_data_processed = session_data_processor.prepare_training_data(val_data)\n",
    "test_data_processed = session_data_processor.prepare_training_data(test_data)"
   ]
  },
  {
   "cell_type": "code",
   "execution_count": 6,
   "id": "fe0e4ea3-eebb-4bc2-a6f5-238c1c16a4b0",
   "metadata": {},
   "outputs": [],
   "source": [
    "train_data_processed.to_json('data_files/train_sessions.jsonl', orient='records', lines=True)\n",
    "val_data_processed.to_json('data_files/val_sessions.jsonl', orient='records', lines=True)\n",
    "test_data_processed.to_json('data_files/test_sessions.jsonl', orient='records', lines=True)"
   ]
  }
 ],
 "metadata": {
  "kernelspec": {
   "display_name": "Python 3 (ipykernel)",
   "language": "python",
   "name": "python3"
  },
  "language_info": {
   "codemirror_mode": {
    "name": "ipython",
    "version": 3
   },
   "file_extension": ".py",
   "mimetype": "text/x-python",
   "name": "python",
   "nbconvert_exporter": "python",
   "pygments_lexer": "ipython3",
   "version": "3.12.4"
  }
 },
 "nbformat": 4,
 "nbformat_minor": 5
}
