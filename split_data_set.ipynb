{
 "cells": [
  {
   "cell_type": "code",
   "execution_count": 1,
   "id": "31d3f6f0-ef48-467c-97f2-829b89fcf9a2",
   "metadata": {},
   "outputs": [
    {
     "name": "stderr",
     "output_type": "stream",
     "text": [
      "/home/bilski/uni_repos/IUM/data/data_cleaning.py:8: FutureWarning: Series.fillna with 'method' is deprecated and will raise in a future version. Use obj.ffill() or obj.bfill() instead.\n",
      "  df['user_id'] = df['user_id'].fillna(method='ffill')\n",
      "/home/bilski/uni_repos/IUM/data/data_cleaning.py:8: FutureWarning: Series.fillna with 'method' is deprecated and will raise in a future version. Use obj.ffill() or obj.bfill() instead.\n",
      "  df['user_id'] = df['user_id'].fillna(method='ffill')\n",
      "/home/bilski/uni_repos/IUM/data/data_cleaning.py:8: FutureWarning: Series.fillna with 'method' is deprecated and will raise in a future version. Use obj.ffill() or obj.bfill() instead.\n",
      "  df['user_id'] = df['user_id'].fillna(method='ffill')\n",
      "/home/bilski/uni_repos/IUM/data/data_cleaning.py:8: FutureWarning: Series.fillna with 'method' is deprecated and will raise in a future version. Use obj.ffill() or obj.bfill() instead.\n",
      "  df['user_id'] = df['user_id'].fillna(method='ffill')\n",
      "/home/bilski/uni_repos/IUM/data/data_cleaning.py:8: FutureWarning: Series.fillna with 'method' is deprecated and will raise in a future version. Use obj.ffill() or obj.bfill() instead.\n",
      "  df['user_id'] = df['user_id'].fillna(method='ffill')\n",
      "/home/bilski/uni_repos/IUM/data/data_cleaning.py:8: FutureWarning: Series.fillna with 'method' is deprecated and will raise in a future version. Use obj.ffill() or obj.bfill() instead.\n",
      "  df['user_id'] = df['user_id'].fillna(method='ffill')\n",
      "/home/bilski/uni_repos/IUM/data/data_cleaning.py:8: FutureWarning: Series.fillna with 'method' is deprecated and will raise in a future version. Use obj.ffill() or obj.bfill() instead.\n",
      "  df['user_id'] = df['user_id'].fillna(method='ffill')\n",
      "/home/bilski/uni_repos/IUM/data/data_cleaning.py:8: FutureWarning: Series.fillna with 'method' is deprecated and will raise in a future version. Use obj.ffill() or obj.bfill() instead.\n",
      "  df['user_id'] = df['user_id'].fillna(method='ffill')\n",
      "/home/bilski/uni_repos/IUM/data/data_cleaning.py:8: FutureWarning: Series.fillna with 'method' is deprecated and will raise in a future version. Use obj.ffill() or obj.bfill() instead.\n",
      "  df['user_id'] = df['user_id'].fillna(method='ffill')\n",
      "/home/bilski/uni_repos/IUM/data/data_cleaning.py:8: FutureWarning: Series.fillna with 'method' is deprecated and will raise in a future version. Use obj.ffill() or obj.bfill() instead.\n",
      "  df['user_id'] = df['user_id'].fillna(method='ffill')\n",
      "/home/bilski/uni_repos/IUM/data/data_cleaning.py:8: FutureWarning: Series.fillna with 'method' is deprecated and will raise in a future version. Use obj.ffill() or obj.bfill() instead.\n",
      "  df['user_id'] = df['user_id'].fillna(method='ffill')\n",
      "/home/bilski/uni_repos/IUM/data/data_cleaning.py:8: FutureWarning: Series.fillna with 'method' is deprecated and will raise in a future version. Use obj.ffill() or obj.bfill() instead.\n",
      "  df['user_id'] = df['user_id'].fillna(method='ffill')\n",
      "/home/bilski/uni_repos/IUM/data/data_cleaning.py:8: FutureWarning: Series.fillna with 'method' is deprecated and will raise in a future version. Use obj.ffill() or obj.bfill() instead.\n",
      "  df['user_id'] = df['user_id'].fillna(method='ffill')\n",
      "/home/bilski/uni_repos/IUM/data/data_cleaning.py:8: FutureWarning: Series.fillna with 'method' is deprecated and will raise in a future version. Use obj.ffill() or obj.bfill() instead.\n",
      "  df['user_id'] = df['user_id'].fillna(method='ffill')\n",
      "/home/bilski/uni_repos/IUM/data/data_cleaning.py:8: FutureWarning: Series.fillna with 'method' is deprecated and will raise in a future version. Use obj.ffill() or obj.bfill() instead.\n",
      "  df['user_id'] = df['user_id'].fillna(method='ffill')\n",
      "/home/bilski/uni_repos/IUM/data/data_cleaning.py:8: FutureWarning: Series.fillna with 'method' is deprecated and will raise in a future version. Use obj.ffill() or obj.bfill() instead.\n",
      "  df['user_id'] = df['user_id'].fillna(method='ffill')\n",
      "/home/bilski/uni_repos/IUM/data/data_cleaning.py:8: FutureWarning: Series.fillna with 'method' is deprecated and will raise in a future version. Use obj.ffill() or obj.bfill() instead.\n",
      "  df['user_id'] = df['user_id'].fillna(method='ffill')\n",
      "/home/bilski/uni_repos/IUM/data/data_cleaning.py:8: FutureWarning: Series.fillna with 'method' is deprecated and will raise in a future version. Use obj.ffill() or obj.bfill() instead.\n",
      "  df['user_id'] = df['user_id'].fillna(method='ffill')\n",
      "/home/bilski/uni_repos/IUM/data/data_cleaning.py:8: FutureWarning: Series.fillna with 'method' is deprecated and will raise in a future version. Use obj.ffill() or obj.bfill() instead.\n",
      "  df['user_id'] = df['user_id'].fillna(method='ffill')\n",
      "/home/bilski/uni_repos/IUM/data/data_cleaning.py:8: FutureWarning: Series.fillna with 'method' is deprecated and will raise in a future version. Use obj.ffill() or obj.bfill() instead.\n",
      "  df['user_id'] = df['user_id'].fillna(method='ffill')\n",
      "/home/bilski/uni_repos/IUM/data/data_cleaning.py:8: FutureWarning: Series.fillna with 'method' is deprecated and will raise in a future version. Use obj.ffill() or obj.bfill() instead.\n",
      "  df['user_id'] = df['user_id'].fillna(method='ffill')\n",
      "/home/bilski/uni_repos/IUM/data/data_cleaning.py:8: FutureWarning: Series.fillna with 'method' is deprecated and will raise in a future version. Use obj.ffill() or obj.bfill() instead.\n",
      "  df['user_id'] = df['user_id'].fillna(method='ffill')\n",
      "/home/bilski/uni_repos/IUM/data/data_cleaning.py:8: FutureWarning: Series.fillna with 'method' is deprecated and will raise in a future version. Use obj.ffill() or obj.bfill() instead.\n",
      "  df['user_id'] = df['user_id'].fillna(method='ffill')\n",
      "/home/bilski/uni_repos/IUM/data/data_cleaning.py:8: FutureWarning: Series.fillna with 'method' is deprecated and will raise in a future version. Use obj.ffill() or obj.bfill() instead.\n",
      "  df['user_id'] = df['user_id'].fillna(method='ffill')\n",
      "/home/bilski/uni_repos/IUM/data/data_cleaning.py:8: FutureWarning: Series.fillna with 'method' is deprecated and will raise in a future version. Use obj.ffill() or obj.bfill() instead.\n",
      "  df['user_id'] = df['user_id'].fillna(method='ffill')\n",
      "/home/bilski/uni_repos/IUM/data/data_cleaning.py:8: FutureWarning: Series.fillna with 'method' is deprecated and will raise in a future version. Use obj.ffill() or obj.bfill() instead.\n",
      "  df['user_id'] = df['user_id'].fillna(method='ffill')\n",
      "/home/bilski/uni_repos/IUM/data/data_cleaning.py:8: FutureWarning: Series.fillna with 'method' is deprecated and will raise in a future version. Use obj.ffill() or obj.bfill() instead.\n",
      "  df['user_id'] = df['user_id'].fillna(method='ffill')\n",
      "/home/bilski/uni_repos/IUM/data/data_cleaning.py:8: FutureWarning: Series.fillna with 'method' is deprecated and will raise in a future version. Use obj.ffill() or obj.bfill() instead.\n",
      "  df['user_id'] = df['user_id'].fillna(method='ffill')\n",
      "/home/bilski/uni_repos/IUM/data/data_cleaning.py:8: FutureWarning: Series.fillna with 'method' is deprecated and will raise in a future version. Use obj.ffill() or obj.bfill() instead.\n",
      "  df['user_id'] = df['user_id'].fillna(method='ffill')\n",
      "/home/bilski/uni_repos/IUM/data/data_cleaning.py:8: FutureWarning: Series.fillna with 'method' is deprecated and will raise in a future version. Use obj.ffill() or obj.bfill() instead.\n",
      "  df['user_id'] = df['user_id'].fillna(method='ffill')\n",
      "/home/bilski/uni_repos/IUM/data/data_cleaning.py:8: FutureWarning: Series.fillna with 'method' is deprecated and will raise in a future version. Use obj.ffill() or obj.bfill() instead.\n",
      "  df['user_id'] = df['user_id'].fillna(method='ffill')\n",
      "/home/bilski/uni_repos/IUM/data/data_cleaning.py:8: FutureWarning: Series.fillna with 'method' is deprecated and will raise in a future version. Use obj.ffill() or obj.bfill() instead.\n",
      "  df['user_id'] = df['user_id'].fillna(method='ffill')\n",
      "/home/bilski/uni_repos/IUM/data/data_cleaning.py:8: FutureWarning: Series.fillna with 'method' is deprecated and will raise in a future version. Use obj.ffill() or obj.bfill() instead.\n",
      "  df['user_id'] = df['user_id'].fillna(method='ffill')\n",
      "/home/bilski/uni_repos/IUM/data/data_cleaning.py:8: FutureWarning: Series.fillna with 'method' is deprecated and will raise in a future version. Use obj.ffill() or obj.bfill() instead.\n",
      "  df['user_id'] = df['user_id'].fillna(method='ffill')\n",
      "/home/bilski/uni_repos/IUM/data/data_cleaning.py:8: FutureWarning: Series.fillna with 'method' is deprecated and will raise in a future version. Use obj.ffill() or obj.bfill() instead.\n",
      "  df['user_id'] = df['user_id'].fillna(method='ffill')\n",
      "/home/bilski/uni_repos/IUM/data/data_cleaning.py:8: FutureWarning: Series.fillna with 'method' is deprecated and will raise in a future version. Use obj.ffill() or obj.bfill() instead.\n",
      "  df['user_id'] = df['user_id'].fillna(method='ffill')\n",
      "/home/bilski/uni_repos/IUM/data/data_cleaning.py:8: FutureWarning: Series.fillna with 'method' is deprecated and will raise in a future version. Use obj.ffill() or obj.bfill() instead.\n",
      "  df['user_id'] = df['user_id'].fillna(method='ffill')\n",
      "/home/bilski/uni_repos/IUM/data/data_cleaning.py:8: FutureWarning: Series.fillna with 'method' is deprecated and will raise in a future version. Use obj.ffill() or obj.bfill() instead.\n",
      "  df['user_id'] = df['user_id'].fillna(method='ffill')\n",
      "/home/bilski/uni_repos/IUM/data/data_cleaning.py:8: FutureWarning: Series.fillna with 'method' is deprecated and will raise in a future version. Use obj.ffill() or obj.bfill() instead.\n",
      "  df['user_id'] = df['user_id'].fillna(method='ffill')\n",
      "/home/bilski/uni_repos/IUM/data/data_cleaning.py:8: FutureWarning: Series.fillna with 'method' is deprecated and will raise in a future version. Use obj.ffill() or obj.bfill() instead.\n",
      "  df['user_id'] = df['user_id'].fillna(method='ffill')\n",
      "/home/bilski/uni_repos/IUM/data/data_cleaning.py:8: FutureWarning: Series.fillna with 'method' is deprecated and will raise in a future version. Use obj.ffill() or obj.bfill() instead.\n",
      "  df['user_id'] = df['user_id'].fillna(method='ffill')\n",
      "/home/bilski/uni_repos/IUM/data/data_cleaning.py:8: FutureWarning: Series.fillna with 'method' is deprecated and will raise in a future version. Use obj.ffill() or obj.bfill() instead.\n",
      "  df['user_id'] = df['user_id'].fillna(method='ffill')\n",
      "/home/bilski/uni_repos/IUM/data/data_cleaning.py:8: FutureWarning: Series.fillna with 'method' is deprecated and will raise in a future version. Use obj.ffill() or obj.bfill() instead.\n",
      "  df['user_id'] = df['user_id'].fillna(method='ffill')\n",
      "/home/bilski/uni_repos/IUM/data/data_cleaning.py:8: FutureWarning: Series.fillna with 'method' is deprecated and will raise in a future version. Use obj.ffill() or obj.bfill() instead.\n",
      "  df['user_id'] = df['user_id'].fillna(method='ffill')\n"
     ]
    }
   ],
   "source": [
    "from data.data_cleaning import clean_sessions_jsonl\n",
    "\n",
    "clean_sessions_jsonl('data_files/tracks.jsonl', 'data_files/sessions.jsonl', 'data_files/sessions_clean.jsonl')"
   ]
  },
  {
   "cell_type": "code",
   "execution_count": 2,
   "id": "6bd360b8-f085-41d1-abfa-4e0e9eace3f5",
   "metadata": {},
   "outputs": [],
   "source": [
    "import pandas as pd\n",
    "\n",
    "sessions_df = pd.read_json('data_files/sessions_clean.jsonl', lines=True)"
   ]
  },
  {
   "cell_type": "code",
   "execution_count": 3,
   "id": "6b94c07d-bdef-4936-86b4-0642efdfb826",
   "metadata": {},
   "outputs": [],
   "source": [
    "from data.data_transforming import SessionsEncoder, aggregate_interactions\n",
    "\n",
    "sessions_encoder = SessionsEncoder()\n",
    "sessions_transformed_df = sessions_encoder.fit_transform(sessions_df)"
   ]
  },
  {
   "cell_type": "code",
   "execution_count": 4,
   "id": "1ba3df10-b11d-4f7e-a136-ed13ab7868c7",
   "metadata": {},
   "outputs": [],
   "source": [
    "from data.data_split import split_data\n",
    "\n",
    "train_data_df, val_data_df, test_data_df = split_data(sessions_transformed_df)\n",
    "train_data_df = aggregate_interactions(train_data_df)\n",
    "val_data_df = aggregate_interactions(val_data_df)\n",
    "test_data_df = aggregate_interactions(test_data_df)"
   ]
  },
  {
   "cell_type": "code",
   "execution_count": 5,
   "id": "fe0e4ea3-eebb-4bc2-a6f5-238c1c16a4b0",
   "metadata": {},
   "outputs": [],
   "source": [
    "train_data_df.to_json('data_files/train_sessions.jsonl', orient='records', lines=True)\n",
    "val_data_df.to_json('data_files/val_sessions.jsonl', orient='records', lines=True)\n",
    "test_data_df.to_json('data_files/test_sessions.jsonl', orient='records', lines=True)"
   ]
  },
  {
   "cell_type": "code",
   "execution_count": 6,
   "id": "fafa809e-9a79-48b4-815b-49afcd8ba240",
   "metadata": {},
   "outputs": [
    {
     "name": "stdout",
     "output_type": "stream",
     "text": [
      "        user_id  track_id  score\n",
      "0             0        85    1.1\n",
      "1             0       261    1.1\n",
      "2             0       348   -0.9\n",
      "3             0       351   -0.9\n",
      "4             0       407    1.1\n",
      "...         ...       ...    ...\n",
      "357306     2999     11964    0.1\n",
      "357307     2999     11988    1.1\n",
      "357308     2999     12148    1.1\n",
      "357309     2999     12168    1.1\n",
      "357310     2999     12175   -0.9\n",
      "\n",
      "[357311 rows x 3 columns]\n",
      "        user_id  track_id  score\n",
      "0             0        80    0.1\n",
      "1             0       132    0.1\n",
      "2             0       145    1.1\n",
      "3             0       148   -0.9\n",
      "4             0       177    0.1\n",
      "...         ...       ...    ...\n",
      "946027     2999     12197    1.2\n",
      "946028     2999     12246   -0.9\n",
      "946029     2999     12253    1.1\n",
      "946030     2999     12290    1.1\n",
      "946031     2999     12297    0.1\n",
      "\n",
      "[946032 rows x 3 columns]\n",
      "        user_id  track_id  score\n",
      "0             0       143   -0.9\n",
      "1             0       167    1.1\n",
      "2             0       201    1.1\n",
      "3             0       204    1.1\n",
      "4             0       259    1.1\n",
      "...         ...       ...    ...\n",
      "356416     2999     11936    1.1\n",
      "356417     2999     11953    1.1\n",
      "356418     2999     11968    1.1\n",
      "356419     2999     12045    0.1\n",
      "356420     2999     12181    1.2\n",
      "\n",
      "[356421 rows x 3 columns]\n"
     ]
    }
   ],
   "source": [
    "print(val_data_df)\n",
    "print(train_data_df)\n",
    "print(test_data_df)"
   ]
  },
  {
   "cell_type": "code",
   "execution_count": 7,
   "id": "5a49699c-84ab-4f3e-9987-eaf84cfbadcd",
   "metadata": {},
   "outputs": [
    {
     "data": {
      "image/png": "[encoded data removed]",
      "text/plain": [
       "<Figure size 1000x600 with 1 Axes>"
      ]
     },
     "metadata": {},
     "output_type": "display_data"
    }
   ],
   "source": [
    "import seaborn as sns\n",
    "import matplotlib.pyplot as plt\n",
    "\n",
    "plt.figure(figsize=(10, 6))\n",
    "sns.histplot(data=val_data_df, x='score', bins=50)\n",
    "plt.grid(True, alpha=0.3)\n",
    "plt.show()"
   ]
  }
 ],
 "metadata": {
  "kernelspec": {
   "display_name": "Python 3 (ipykernel)",
   "language": "python",
   "name": "python3"
  },
  "language_info": {
   "codemirror_mode": {
    "name": "ipython",
    "version": 3
   },
   "file_extension": ".py",
   "mimetype": "text/x-python",
   "name": "python",
   "nbconvert_exporter": "python",
   "pygments_lexer": "ipython3",
   "version": "3.12.4"
  }
 },
 "nbformat": 4,
 "nbformat_minor": 5
}
