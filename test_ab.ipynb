{
 "cells": [
  {
   "cell_type": "code",
   "execution_count": 14,
   "id": "72b38189-c633-45f3-ad86-d7e48198fff9",
   "metadata": {},
   "outputs": [],
   "source": [
    "import pandas as pd\n",
    "import numpy as np\n",
    "import seaborn as sns\n",
    "from datetime import datetime, timedelta\n",
    "import matplotlib.pyplot as plt"
   ]
  },
  {
   "cell_type": "code",
   "execution_count": 15,
   "id": "8a4396d6-7442-4c2c-ae89-7d319aea85e5",
   "metadata": {},
   "outputs": [],
   "source": [
    "recommendations_df = pd.read_json('./log_files/ab_test_20250117.log', lines=True)\n",
    "listening_data = pd.read_json('./data_files/test_sessions.jsonl', lines=True)"
   ]
  },
  {
   "cell_type": "code",
   "execution_count": 16,
   "id": "3b0b485d-6340-4cb5-9578-d92f813c7925",
   "metadata": {},
   "outputs": [],
   "source": [
    "results = []"
   ]
  },
  {
   "cell_type": "code",
   "execution_count": 17,
   "id": "8ad495e1-7850-4c09-ac2b-18cb464ab176",
   "metadata": {},
   "outputs": [],
   "source": [
    "for index, recommendation in recommendations_df.iterrows():\n",
    "    rec_time = pd.to_datetime(recommendation['timestamp'])\n",
    "    \n",
    "    group_users = recommendation['user_ids']\n",
    "    recommended_tracks = recommendation['recommended_tracks']\n",
    "    \n",
    "    group_listening = listening_data[\n",
    "        (listening_data['user_id'].isin(group_users))\n",
    "    ]\n",
    "    \n",
    "    track_stats = {}\n",
    "    for track in recommended_tracks:\n",
    "        listeners = group_listening[group_listening['track_id'] == track]['user_id'].nunique()\n",
    "        track_stats[track] = listeners\n",
    "    \n",
    "    result = {\n",
    "        'recommendation_id': index,\n",
    "        'timestamp': rec_time,\n",
    "        'model_type': recommendation['model_type'],\n",
    "        'group_size': len(group_users),\n",
    "        \n",
    "        'avg_listeners': np.mean(list(track_stats.values())),\n",
    "        \n",
    "        'tracks_with_listeners': sum(1 for v in track_stats.values() if v > 0),\n",
    "        \n",
    "        'tracks_listened_by_half': sum(1 for v in track_stats.values() if v >= len(group_users)/2),\n",
    "        \n",
    "        'tracks_listened_by_all': sum(1 for v in track_stats.values() if v == len(group_users))\n",
    "    }\n",
    "    \n",
    "    for user in group_users:\n",
    "        user_listening = group_listening[group_listening['user_id'] == user]\n",
    "        listened_tracks = user_listening['track_id'].unique()\n",
    "        user_listened_count = sum(1 for track in recommended_tracks if track in listened_tracks)\n",
    "        result[f'user_{user}_listened'] = user_listened_count\n",
    "    \n",
    "    results.append(result)"
   ]
  },
  {
   "cell_type": "code",
   "execution_count": 18,
   "id": "680060b1-f8bf-4bd2-99ae-ed6d95c2ba6b",
   "metadata": {},
   "outputs": [],
   "source": [
    "analysis_df = pd.DataFrame(results)"
   ]
  },
  {
   "cell_type": "code",
   "execution_count": 19,
   "id": "1760eda7-0d6f-4453-bc6a-02feb373e32c",
   "metadata": {
    "scrolled": true
   },
   "outputs": [
    {
     "name": "stdout",
     "output_type": "stream",
     "text": [
      "\\Average statistics model wise:\n"
     ]
    },
    {
     "data": {
      "text/html": [
       "<div>\n",
       "<style scoped>\n",
       "    .dataframe tbody tr th:only-of-type {\n",
       "        vertical-align: middle;\n",
       "    }\n",
       "\n",
       "    .dataframe tbody tr th {\n",
       "        vertical-align: top;\n",
       "    }\n",
       "\n",
       "    .dataframe thead th {\n",
       "        text-align: right;\n",
       "    }\n",
       "</style>\n",
       "<table border=\"1\" class=\"dataframe\">\n",
       "  <thead>\n",
       "    <tr style=\"text-align: right;\">\n",
       "      <th></th>\n",
       "      <th>avg_listeners</th>\n",
       "      <th>tracks_with_listeners</th>\n",
       "      <th>tracks_listened_by_half</th>\n",
       "      <th>tracks_listened_by_all</th>\n",
       "    </tr>\n",
       "    <tr>\n",
       "      <th>model_type</th>\n",
       "      <th></th>\n",
       "      <th></th>\n",
       "      <th></th>\n",
       "      <th></th>\n",
       "    </tr>\n",
       "  </thead>\n",
       "  <tbody>\n",
       "    <tr>\n",
       "      <th>advanced</th>\n",
       "      <td>0.770068</td>\n",
       "      <td>10.326531</td>\n",
       "      <td>0.183673</td>\n",
       "      <td>0.0</td>\n",
       "    </tr>\n",
       "    <tr>\n",
       "      <th>basic</th>\n",
       "      <td>0.660135</td>\n",
       "      <td>9.341463</td>\n",
       "      <td>0.024390</td>\n",
       "      <td>0.0</td>\n",
       "    </tr>\n",
       "  </tbody>\n",
       "</table>\n",
       "</div>"
      ],
      "text/plain": [
       "            avg_listeners  tracks_with_listeners  tracks_listened_by_half  \\\n",
       "model_type                                                                  \n",
       "advanced         0.770068              10.326531                 0.183673   \n",
       "basic            0.660135               9.341463                 0.024390   \n",
       "\n",
       "            tracks_listened_by_all  \n",
       "model_type                          \n",
       "advanced                       0.0  \n",
       "basic                          0.0  "
      ]
     },
     "metadata": {},
     "output_type": "display_data"
    }
   ],
   "source": [
    "print(\"\\Average statistics model wise:\")\n",
    "display(analysis_df.groupby('model_type')[['avg_listeners', 'tracks_with_listeners', 'tracks_listened_by_half', 'tracks_listened_by_all']].mean())"
   ]
  },
  {
   "cell_type": "markdown",
   "id": "ffbfbdd2-2817-4fb4-ade9-46c2c6e9eea1",
   "metadata": {},
   "source": [
    "Given the above script for analyzing the A/B experiment, it is difficult to properly calculate the proposed success criterion (number of generated playlists listened to for at least 60 minutes / total number of generated playlists > 0.6).\n",
    "\n",
    "In the current data, we only have information about whether a user listened to a track (through track_id), but we lack crucial information about:\n",
    "- How long each track was played\n",
    "- Whether the track was listened to completely or partially\n",
    "- The total listening time for each playlist\n",
    "\n",
    "To properly measure the proposed success criterion, we would need to:\n",
    "\n",
    "### Data Enrichment\n",
    "The `listening_data` should be enhanced with:\n",
    "- Playback start timestamp\n",
    "- Playback end timestamp or session duration\n",
    "- Length of each track\n",
    "\n",
    "### Script Modifications\n",
    "The current script serves only as a brief demonstration of how to read data from log files and extract basic information. To measure the success criterion properly, the script would need additional features:\n",
    "- Calculation of total listening time for each playlist\n",
    "- Identification of playlists that reach the 60-minute threshold\n",
    "- Computation of the final ratio (number of playlists meeting the criterion / total number of playlists)\n",
    "\n",
    "Without this additional data, we can only estimate recommendation effectiveness based on currently available metrics. Currently, we cannot definitively determine whether the 60-minute listening criterion is met."
   ]
  },
  {
   "cell_type": "code",
   "execution_count": null,
   "id": "cf2d888b-13e0-4dd6-8a5c-dd218b9a38d8",
   "metadata": {},
   "outputs": [],
   "source": []
  }
 ],
 "metadata": {
  "kernelspec": {
   "display_name": "Python 3 (ipykernel)",
   "language": "python",
   "name": "python3"
  },
  "language_info": {
   "codemirror_mode": {
    "name": "ipython",
    "version": 3
   },
   "file_extension": ".py",
   "mimetype": "text/x-python",
   "name": "python",
   "nbconvert_exporter": "python",
   "pygments_lexer": "ipython3",
   "version": "3.10.12"
  }
 },
 "nbformat": 4,
 "nbformat_minor": 5
}
