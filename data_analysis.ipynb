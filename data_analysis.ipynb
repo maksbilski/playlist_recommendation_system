{
 "cells": [
  {
   "cell_type": "code",
   "execution_count": 1,
   "id": "0410fa46-8be3-46fd-8657-6f3828c29030",
   "metadata": {},
   "outputs": [],
   "source": [
    "import pandas as pd\n",
    "\n",
    "sessions_train_df = pd.read_json('data_files/train_sessions.jsonl', lines=True)\n",
    "sessions_val_df = pd.read_json('data_files/val_sessions.jsonl', lines=True)\n",
    "\n",
    "sessions_train_not_agg_df = pd.read_json('data_files/train_sessions_not_agg.jsonl', lines=True)\n",
    "sessions_val_not_agg_df = pd.read_json('data_files/val_sessions_not_agg.jsonl', lines=True)"
   ]
  },
  {
   "cell_type": "code",
   "execution_count": 96,
   "id": "31b5929b-a6ad-4971-8ff6-03b1315cc99f",
   "metadata": {
    "scrolled": true
   },
   "outputs": [
    {
     "name": "stdout",
     "output_type": "stream",
     "text": [
      "       user_id  track_id  event_count_val  event_count_train\n",
      "35719      109        12              NaN                  2\n",
      "35720      109        31              NaN                  2\n",
      "35721      109        34              NaN                  2\n",
      "35722      109        45              NaN                  1\n",
      "35723      109        52              NaN                  1\n",
      "...        ...       ...              ...                ...\n",
      "36576      109     12233              NaN                  2\n",
      "36577      109     12266              NaN                  2\n",
      "36578      109     12270              NaN                  1\n",
      "36579      109     12281              NaN                  1\n",
      "36580      109     12289              NaN                  1\n",
      "\n",
      "[862 rows x 4 columns]\n"
     ]
    }
   ],
   "source": [
    "val_interactions = sessions_val_not_agg_df[\n",
    "    (sessions_val_not_agg_df['event_type'] == 'play') | \n",
    "    (sessions_val_not_agg_df['event_type'] == 'like')\n",
    "].groupby(['user_id', 'track_id']).size()\n",
    "val_interactions = val_interactions.reset_index(name='event_count')\n",
    "val_filtered = val_interactions[val_interactions['event_count'] > 0.9]\n",
    "\n",
    "val_filtered = val_filtered[val_filtered['user_id'] < 500]\n",
    "\n",
    "train_interactions = sessions_train_not_agg_df[\n",
    "    (sessions_train_not_agg_df['event_type'] == 'play') | \n",
    "    (sessions_train_not_agg_df['event_type'] == 'like')\n",
    "].groupby(['user_id', 'track_id']).size()\n",
    "train_interactions = train_interactions.reset_index(name='event_count')\n",
    "train_interactions = train_interactions[train_interactions['user_id'] < 500]\n",
    "\n",
    "merged_df = val_filtered.merge(\n",
    "    train_interactions, \n",
    "    on=['user_id', 'track_id'], \n",
    "    how='right',\n",
    "    suffixes=('_val', '_train')\n",
    ")\n",
    "\n",
    "print(merged_df[merged_df['user_id'] == 109])"
   ]
  },
  {
   "cell_type": "code",
   "execution_count": 17,
   "id": "40dd7a90-d89e-402f-8c26-fec61156bd82",
   "metadata": {},
   "outputs": [],
   "source": [
    "train_user_ids = set(sessions_train_not_agg_df['user_id'])\n",
    "val_user_ids = set(sessions_val_not_agg_df['user_id'])\n",
    "\n",
    "train_track_ids = set(sessions_train_not_agg_df['track_id'])\n",
    "val_track_ids = set(sessions_val_not_agg_df['track_id'])"
   ]
  },
  {
   "cell_type": "code",
   "execution_count": null,
   "id": "c9ce4baf-a5be-45c7-8444-06a8f41de441",
   "metadata": {},
   "outputs": [],
   "source": [
    "unique_to_val = val_combinations - train_combinations\n",
    "\n",
    "print(f\"Training set combinations: {len(train_combinations)}\")\n",
    "print(f\"Validation set combinations: {len(val_combinations)}\")\n",
    "print(f\"Combinations unique to validation set: {len(unique_to_val)}\")\n",
    "print(269511/357311)"
   ]
  },
  {
   "cell_type": "code",
   "execution_count": null,
   "id": "44253b94-8c12-4d96-b6b7-368b2471b958",
   "metadata": {},
   "outputs": [],
   "source": [
    "sessions_train_not_agg_df.groupby('user_id').size().reset_index(name='count').sort_values('count', ascending=False)"
   ]
  },
  {
   "cell_type": "code",
   "execution_count": null,
   "id": "82a6ef39-b35c-4330-ba97-4ce8e14e97c3",
   "metadata": {},
   "outputs": [],
   "source": [
    "pd.set_option('display.max_rows', 100)\n",
    "sessions_train_not_agg_df.groupby('user_id').size().reset_index(name='count').sort_values('count', ascending=True)"
   ]
  },
  {
   "cell_type": "code",
   "execution_count": null,
   "id": "2dee5a64-524e-4935-a0d5-b6a7cb68a6be",
   "metadata": {},
   "outputs": [],
   "source": [
    "import seaborn as sns\n",
    "import matplotlib.pyplot as plt\n",
    "\n",
    "counts = sessions_train_not_agg_df.groupby('user_id').size()\n",
    "plt.figure(figsize=(10, 6))\n",
    "plt.hist(counts.values, bins=50)\n",
    "plt.xlabel('Liczba interakcji użytkownika')\n",
    "plt.ylabel('Liczba użytkowników')\n",
    "plt.grid(True, alpha=0.3)\n",
    "plt.show()"
   ]
  },
  {
   "cell_type": "code",
   "execution_count": null,
   "id": "db266d5d-b61b-49c7-a9b2-10de9fdfe3d6",
   "metadata": {},
   "outputs": [],
   "source": [
    "heatmap_data = sessions_train_df.pivot_table(\n",
    "    values='score',\n",
    "    index='user_id',\n",
    "    columns='track_id',\n",
    "    aggfunc='mean',\n",
    "    fill_value=0\n",
    ")\n",
    "\n",
    "plt.figure(figsize=(15, 10))\n",
    "plt.pcolormesh(heatmap_data, cmap='viridis')\n",
    "plt.colorbar(label='Score')\n",
    "plt.title('Heatmap of User-Track Scores')\n",
    "plt.xlabel('Track ID')\n",
    "plt.ylabel('User ID')\n",
    "\n",
    "plt.xticks(np.arange(0, len(heatmap_data.columns), 100), \n",
    "          heatmap_data.columns[::100], \n",
    "          rotation=45)\n",
    "plt.yticks(np.arange(0, len(heatmap_data.index), 100), \n",
    "          heatmap_data.index[::100])\n",
    "\n",
    "plt.tight_layout()\n",
    "\n",
    "plt.show()"
   ]
  },
  {
   "cell_type": "code",
   "execution_count": null,
   "id": "5a6d4f1c-352f-4480-998a-cb01a1895bc3",
   "metadata": {},
   "outputs": [],
   "source": [
    "heatmap_data = sessions_val_df.pivot_table(\n",
    "    values='score',\n",
    "    index='user_id',\n",
    "    columns='track_id',\n",
    "    aggfunc='mean',\n",
    "    fill_value=0\n",
    ")\n",
    "\n",
    "plt.figure(figsize=(15, 10))\n",
    "plt.pcolormesh(heatmap_data, cmap='viridis')\n",
    "plt.colorbar(label='Score')\n",
    "plt.title('Heatmap of User-Track Scores')\n",
    "plt.xlabel('Track ID')\n",
    "plt.ylabel('User ID')\n",
    "\n",
    "plt.xticks(np.arange(0, len(heatmap_data.columns), 100), \n",
    "          heatmap_data.columns[::100], \n",
    "          rotation=45)\n",
    "plt.yticks(np.arange(0, len(heatmap_data.index), 100), \n",
    "          heatmap_data.index[::100])\n",
    "\n",
    "plt.tight_layout()\n",
    "\n",
    "plt.show()"
   ]
  }
 ],
 "metadata": {
  "kernelspec": {
   "display_name": "Python 3 (ipykernel)",
   "language": "python",
   "name": "python3"
  },
  "language_info": {
   "codemirror_mode": {
    "name": "ipython",
    "version": 3
   },
   "file_extension": ".py",
   "mimetype": "text/x-python",
   "name": "python",
   "nbconvert_exporter": "python",
   "pygments_lexer": "ipython3",
   "version": "3.10.12"
  }
 },
 "nbformat": 4,
 "nbformat_minor": 5
}
