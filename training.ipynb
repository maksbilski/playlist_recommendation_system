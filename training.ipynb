{
 "cells": [
  {
   "cell_type": "code",
   "execution_count": 1,
   "id": "3f616a39-4fe2-4d50-973b-3110e2c1723b",
   "metadata": {},
   "outputs": [],
   "source": [
    "from models.training import GMFTrainer\n",
    "from models.base_model import GMF\n",
    "from evaluation.evaluator import Evaluator\n",
    "import numpy as np\n",
    "import pandas as pd\n",
    "import torch"
   ]
  },
  {
   "cell_type": "code",
   "execution_count": 2,
   "id": "28cd2f5f-b277-482d-8954-37c2af386135",
   "metadata": {},
   "outputs": [],
   "source": [
    "sessions_train_df = pd.read_json('data_files/train_sessions.jsonl', lines=True)\n",
    "tracks_df = pd.read_json('data_files/tracks.jsonl', lines=True)\n",
    "device = torch.device('cuda' if torch.cuda.is_available() else 'cpu')\n",
    "\n",
    "dataset = torch.utils.data.TensorDataset(\n",
    "    torch.LongTensor(sessions_train_df['user_id'].values).to(device),\n",
    "    torch.LongTensor(sessions_train_df['track_id'].values).to(device),\n",
    "    torch.FloatTensor(sessions_train_df['score'].values).to(device)\n",
    ")\n",
    "\n",
    "train_loader = torch.utils.data.DataLoader(\n",
    "    dataset,\n",
    "    batch_size=128,\n",
    "    shuffle=True\n",
    ")\n",
    "\n",
    "unique_users_count = sessions_train_df['user_id'].nunique()\n",
    "unique_tracks_count = len(tracks_df)"
   ]
  },
  {
   "cell_type": "code",
   "execution_count": 3,
   "id": "c0cdc5f9-2dc6-40a2-8b3e-ecf8e93b7ecb",
   "metadata": {},
   "outputs": [],
   "source": [
    "gmf = GMF(unique_users_count + 1, unique_tracks_count + 1, 32)"
   ]
  },
  {
   "cell_type": "code",
   "execution_count": null,
   "id": "46fc7882-cf69-49e9-a234-82ca20db6ecd",
   "metadata": {},
   "outputs": [
    {
     "name": "stdout",
     "output_type": "stream",
     "text": [
      "Epoch 1/3 - Average Loss: 1.6307\n",
      "Epoch 2/3 - Average Loss: 0.8296\n"
     ]
    }
   ],
   "source": [
    "trainer = GMFTrainer(gmf, train_loader, device)\n",
    "trainer.train_with_weight_decay(\n",
    "    epochs=3,\n",
    "    learning_rate=0.01,\n",
    "    weight_decay=0.15\n",
    ")"
   ]
  },
  {
   "cell_type": "code",
   "execution_count": null,
   "id": "3ef7a080-a327-474f-b3f7-bf34cfdcfaf7",
   "metadata": {},
   "outputs": [],
   "source": [
    "user_norms = torch.norm(gmf.user_embedding.weight, dim=1)\n",
    "avg_user_norm = torch.mean(user_norms) \n",
    "item_norms = torch.norm(gmf.item_embedding.weight, dim=1)\n",
    "avg_item_norm = torch.mean(item_norms)\n",
    "\n",
    "print(\"Średnia norma user embeddings:\", avg_user_norm.item())\n",
    "print(\"Średnia norma item embeddings:\", avg_item_norm.item())"
   ]
  },
  {
   "cell_type": "code",
   "execution_count": null,
   "id": "a6b28b0e-e5bb-4b61-8c69-98f637d8001d",
   "metadata": {},
   "outputs": [],
   "source": [
    "ground_truth_df = pd.read_json('data_files/val_sessions.jsonl', lines=True)\n",
    "ground_truth_df = ground_truth_df[ground_truth_df['user_id'] < 1000]\n",
    "all_users = torch.arange(1000).to(device)\n",
    "all_items = torch.arange(unique_tracks_count).to(device)\n",
    "all_pairs = torch.cartesian_prod(all_users, all_items)\n",
    "user_input = all_pairs[:,0]\n",
    "item_input = all_pairs[:,1]"
   ]
  },
  {
   "cell_type": "code",
   "execution_count": null,
   "id": "09c35eb8-45f7-43ed-a2c8-39e392fb317d",
   "metadata": {},
   "outputs": [],
   "source": [
    "predictions = []\n",
    "batch_size = 10000\n",
    "gmf.eval()\n",
    "for i in range(0, len(all_pairs), batch_size):\n",
    "    batch_pairs = all_pairs[i:i + batch_size]\n",
    "    batch_user_input = batch_pairs[:,0].to(device)\n",
    "    batch_item_input = batch_pairs[:,1].to(device)\n",
    "    \n",
    "    with torch.no_grad():\n",
    "        batch_predictions = gmf.forward(batch_user_input, batch_item_input)\n",
    "        predictions.append(batch_predictions)\n",
    "\n",
    "all_predictions = torch.cat(predictions)"
   ]
  },
  {
   "cell_type": "code",
   "execution_count": null,
   "id": "0120ce8f-10e6-4711-9ea4-79f30443e7c0",
   "metadata": {},
   "outputs": [],
   "source": [
    "all_pairs_np = all_pairs.cpu().numpy()\n",
    "all_predictions_np = all_predictions.cpu().numpy()\n",
    "\n",
    "recommendations_df = pd.DataFrame({\n",
    "    'user_id': all_pairs_np[:, 0],\n",
    "    'track_id': all_pairs_np[:, 1],\n",
    "    'score': all_predictions_np\n",
    "})"
   ]
  },
  {
   "cell_type": "code",
   "execution_count": null,
   "id": "10820d4b-fb46-4d65-b756-718a8ec1da9a",
   "metadata": {},
   "outputs": [],
   "source": [
    "evaluator2 = Evaluator([5, 10, 15, 20, 25], 1.3)"
   ]
  },
  {
   "cell_type": "code",
   "execution_count": null,
   "id": "1080fb45-2897-4fe7-898b-efc87e1752f6",
   "metadata": {},
   "outputs": [],
   "source": [
    "metrics = evaluator2.evaluate(recommendations_df, ground_truth_df)"
   ]
  },
  {
   "cell_type": "code",
   "execution_count": null,
   "id": "6ee2e449-7e84-4b90-87bd-ac20801b02f3",
   "metadata": {},
   "outputs": [],
   "source": [
    "for metric, value in metrics.items():\n",
    "    print(f'{metric}: {value * 100}%')"
   ]
  },
  {
   "cell_type": "code",
   "execution_count": null,
   "id": "99580638-49bc-402c-bbc6-1c45ee926a43",
   "metadata": {},
   "outputs": [],
   "source": [
    "import seaborn as sns\n",
    "import matplotlib.pyplot as plt\n",
    "\n",
    "plt.figure(figsize=(10, 6))\n",
    "sns.histplot(data=recommendations_df, x='score', bins=50)\n",
    "plt.grid(True, alpha=0.3)\n",
    "plt.show()"
   ]
  },
  {
   "cell_type": "code",
   "execution_count": null,
   "id": "a52ffd47-df71-44ae-939d-944b9f2525b7",
   "metadata": {
    "scrolled": true
   },
   "outputs": [],
   "source": [
    "import seaborn as sns\n",
    "import matplotlib.pyplot as plt\n",
    "\n",
    "plt.figure(figsize=(10, 6))\n",
    "sns.histplot(data=ground_truth_df, x='score', bins=50)\n",
    "plt.grid(True, alpha=0.3)\n",
    "plt.gca().xaxis.set_major_locator(plt.MultipleLocator(0.5))\n",
    "plt.yticks(range(0, 60000, 2000))\n",
    "plt.show()"
   ]
  },
  {
   "cell_type": "code",
   "execution_count": null,
   "id": "77207f6b-b760-4dca-901f-eed2f6c2b03d",
   "metadata": {},
   "outputs": [],
   "source": [
    "merged_df = recommendations_df.merge(\n",
    "    ground_truth_df,\n",
    "    on=['user_id', 'track_id'],\n",
    "    how='right',\n",
    "    suffixes=('_pred', '')\n",
    ").fillna({'score': 0.0})\n",
    "\n",
    "plt.figure(figsize=(10, 6))\n",
    "sns.histplot(data=merged_df, x='score', bins=300)\n",
    "plt.grid(True, alpha=0.3)\n",
    "plt.show()\n",
    "\n",
    "\n",
    "relevant_stats = merged_df.groupby('user_id').agg({\n",
    "    'score': [\n",
    "        ('relevant_items_count', lambda x: (x > 1.3).sum()),\n",
    "        ('total_items', 'count'),\n",
    "        ('relevant_percentage', lambda x: (x > 1.3).mean() * 100)\n",
    "    ]\n",
    "})\n",
    "\n",
    "print(relevant_stats)\n",
    "print('relevant_percentage_mean: ' + str(relevant_stats[('score', 'relevant_percentage')].mean()))\n",
    "print('total_items_mean: ' + str(relevant_stats[('score', 'total_items')].mean()))"
   ]
  },
  {
   "cell_type": "raw",
   "id": "6332579c-6d25-42e6-868b-01b972f2e470",
   "metadata": {},
   "source": []
  }
 ],
 "metadata": {
  "kernelspec": {
   "display_name": "Python 3 (ipykernel)",
   "language": "python",
   "name": "python3"
  },
  "language_info": {
   "codemirror_mode": {
    "name": "ipython",
    "version": 3
   },
   "file_extension": ".py",
   "mimetype": "text/x-python",
   "name": "python",
   "nbconvert_exporter": "python",
   "pygments_lexer": "ipython3",
   "version": "3.12.4"
  }
 },
 "nbformat": 4,
 "nbformat_minor": 5
}
