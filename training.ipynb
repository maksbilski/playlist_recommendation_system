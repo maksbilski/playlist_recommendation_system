{
 "cells": [
  {
   "cell_type": "code",
   "execution_count": 1,
   "id": "3f616a39-4fe2-4d50-973b-3110e2c1723b",
   "metadata": {},
   "outputs": [],
   "source": [
    "from models.training import Trainer\n",
    "from models.wmf import WMF\n",
    "from data.data_transforming import IDEncoder\n",
    "from itertools import product\n",
    "import matplotlib.pyplot as plt\n",
    "import numpy as np\n",
    "import pandas as pd\n",
    "import torch"
   ]
  },
  {
   "cell_type": "markdown",
   "id": "086c11fc-f433-45a7-aed7-db26fc11deaf",
   "metadata": {},
   "source": [
    "## Use when you would like to init model ↓"
   ]
  },
  {
   "cell_type": "code",
   "execution_count": 3,
   "id": "82f250da-02b0-4385-81c5-e4b79c96ddce",
   "metadata": {},
   "outputs": [],
   "source": [
    "users_df = pd.read_json('data_files/users.jsonl', lines=True)\n",
    "tracks_df = pd.read_json('data_files/tracks.jsonl', lines=True)\n",
    "user_encoder = IDEncoder()\n",
    "track_encoder = IDEncoder()\n",
    "user_encoder.fit(users_df[\"user_id\"].unique().tolist())\n",
    "track_encoder.fit(tracks_df[\"id\"].unique().tolist())\n",
    "model = WMF(\n",
    "    n_users=len(user_encoder), \n",
    "    n_items=len(track_encoder), \n",
    "    embedding_dim=32, \n",
    "    dropout_rate=0.0, \n",
    "    init=True, \n",
    "    bias=False, \n",
    "    sigmoid=False\n",
    ")"
   ]
  },
  {
   "cell_type": "markdown",
   "id": "981e85d8-de36-43eb-9fc7-5ab524101896",
   "metadata": {},
   "source": [
    "## Use when you would like to load model from file ↓"
   ]
  },
  {
   "cell_type": "code",
   "execution_count": 2,
   "id": "b2f817b6-eb27-4db4-9651-d64a02774b66",
   "metadata": {},
   "outputs": [
    {
     "data": {
      "text/plain": [
       "<All keys matched successfully>"
      ]
     },
     "execution_count": 2,
     "metadata": {},
     "output_type": "execute_result"
    }
   ],
   "source": [
    "model_data = torch.load('./model_files/wmf_model.pth')\n",
    "user_encoder = model_data[\"user_encoder\"]\n",
    "track_encoder = model_data[\"track_encoder\"]\n",
    "config = model_data[\"model_config\"]\n",
    "model = WMF(\n",
    "    n_users=len(user_encoder),\n",
    "    n_items=len(track_encoder),\n",
    "    embedding_dim=config[\"embedding_dim\"],\n",
    "    dropout_rate=config[\"dropout_rate\"],\n",
    "    bias=config[\"bias\"],\n",
    "    sigmoid=config[\"sigmoid\"],\n",
    "    init=False\n",
    ")\n",
    "model.load_state_dict(model_data[\"model_state_dict\"])"
   ]
  },
  {
   "cell_type": "code",
   "execution_count": 3,
   "id": "6355c369-dfe1-4141-95ec-4d6dd3550cd3",
   "metadata": {},
   "outputs": [],
   "source": [
    "sessions_train_df = pd.read_json('data_files/train_sessions.jsonl', lines=True)\n",
    "sessions_val_df = pd.read_json('data_files/val_sessions.jsonl', lines=True)"
   ]
  },
  {
   "cell_type": "code",
   "execution_count": 4,
   "id": "ea6bbade-a52c-4196-a944-917c9f8281fa",
   "metadata": {},
   "outputs": [],
   "source": [
    "sessions_train_df[\"user_id\"] = user_encoder.encode(sessions_train_df[\"user_id\"].tolist())\n",
    "sessions_train_df[\"track_id\"] = track_encoder.encode(sessions_train_df[\"track_id\"].tolist())\n",
    "sessions_val_df[\"user_id\"] = user_encoder.encode(sessions_val_df[\"user_id\"].tolist())\n",
    "sessions_val_df[\"track_id\"] = track_encoder.encode(sessions_val_df[\"track_id\"].tolist())"
   ]
  },
  {
   "cell_type": "code",
   "execution_count": 5,
   "id": "4b9c516e-a2b9-44dd-9eed-8024f52fc8c3",
   "metadata": {},
   "outputs": [],
   "source": [
    "users_range = np.arange(2000, 2500)\n",
    "tracks_range = np.arange(len(track_encoder))\n",
    "df = pd.DataFrame(\n",
    "    product(users_range, tracks_range),\n",
    "    columns=['user_id', 'track_id']\n",
    ")\n",
    "\n",
    "sessions_train_df = df.merge(\n",
    "    sessions_train_df[['user_id', 'track_id', 'score']],\n",
    "    on=['user_id', 'track_id'],\n",
    "    how='left'\n",
    ").fillna(0)\n",
    "\n",
    "sessions_val_df = df.merge(\n",
    "    sessions_val_df[['user_id', 'track_id', 'score']],\n",
    "    on=['user_id', 'track_id'], \n",
    "    how='left'\n",
    ").fillna(0)"
   ]
  },
  {
   "cell_type": "code",
   "execution_count": 6,
   "id": "1c915386-c185-4927-8d2f-9ed1ec97f1ea",
   "metadata": {},
   "outputs": [],
   "source": [
    "sessions_train_df['preference'] = sessions_train_df['score'] >= 1\n",
    "sessions_val_df['preference'] = sessions_val_df['score'] >= 1"
   ]
  },
  {
   "cell_type": "code",
   "execution_count": 7,
   "id": "72688251-409f-46de-95e3-f81ac5a339f8",
   "metadata": {},
   "outputs": [],
   "source": [
    "alpha = 40\n",
    "epsilon = 1e-8\n",
    "sessions_train_df['weight'] = 1 + alpha * np.log(1 + sessions_train_df['score'] / epsilon)\n",
    "sessions_val_df['weight'] = 1 + alpha * np.log(1 + sessions_val_df['score'] / epsilon)"
   ]
  },
  {
   "cell_type": "code",
   "execution_count": 8,
   "id": "28cd2f5f-b277-482d-8954-37c2af386135",
   "metadata": {},
   "outputs": [],
   "source": [
    "train_dataset = torch.utils.data.TensorDataset(\n",
    "    torch.LongTensor(sessions_train_df['user_id'].values),\n",
    "    torch.LongTensor(sessions_train_df['track_id'].values),\n",
    "    torch.FloatTensor(sessions_train_df['preference'].values),\n",
    "    torch.FloatTensor(sessions_train_df['weight'].values)\n",
    ")\n",
    "\n",
    "val_dataset = torch.utils.data.TensorDataset(\n",
    "    torch.LongTensor(sessions_val_df['user_id'].values),\n",
    "    torch.LongTensor(sessions_val_df['track_id'].values),\n",
    "    torch.FloatTensor(sessions_val_df['preference'].values),\n",
    "    torch.FloatTensor(sessions_val_df['weight'].values)\n",
    ")\n",
    "\n",
    "train_loader = torch.utils.data.DataLoader(\n",
    "    train_dataset,\n",
    "    batch_size=512,\n",
    "    shuffle=True\n",
    ")\n",
    "\n",
    "val_loader = torch.utils.data.DataLoader(\n",
    "    val_dataset,\n",
    "    batch_size=512,\n",
    "    shuffle=False\n",
    ")\n",
    "\n",
    "device = torch.device('cuda' if torch.cuda.is_available() else 'cpu')"
   ]
  },
  {
   "cell_type": "code",
   "execution_count": 9,
   "id": "46fc7882-cf69-49e9-a234-82ca20db6ecd",
   "metadata": {},
   "outputs": [
    {
     "name": "stdout",
     "output_type": "stream",
     "text": [
      "Epoch: 0; Train loss: 2.1193120233908957; Val loss: 0.7193592203457703\n",
      "Epoch: 1; Train loss: 1.6375799859123472; Val loss: 0.7103575413768615\n",
      "Epoch: 2; Train loss: 1.6198288817497366; Val loss: 0.7013339042746465\n",
      "Epoch: 3; Train loss: 1.6090435236331593; Val loss: 0.7218749337733186\n",
      "Epoch: 4; Train loss: 1.621430717675199; Val loss: 0.7044596232173183\n",
      "Epoch: 5; Train loss: 1.6071691410641997; Val loss: 0.7012811195634313\n"
     ]
    },
    {
     "ename": "KeyboardInterrupt",
     "evalue": "",
     "output_type": "error",
     "traceback": [
      "\u001b[0;31m---------------------------------------------------------------------------\u001b[0m",
      "\u001b[0;31mKeyboardInterrupt\u001b[0m                         Traceback (most recent call last)",
      "Cell \u001b[0;32mIn[9], line 2\u001b[0m\n\u001b[1;32m      1\u001b[0m trainer \u001b[38;5;241m=\u001b[39m Trainer(model, train_loader, val_loader, device)\n\u001b[0;32m----> 2\u001b[0m train_loss, val_loss \u001b[38;5;241m=\u001b[39m \u001b[43mtrainer\u001b[49m\u001b[38;5;241;43m.\u001b[39;49m\u001b[43mtrain_with_weight_decay\u001b[49m\u001b[43m(\u001b[49m\n\u001b[1;32m      3\u001b[0m \u001b[43m    \u001b[49m\u001b[43mepochs\u001b[49m\u001b[38;5;241;43m=\u001b[39;49m\u001b[38;5;241;43m15\u001b[39;49m\u001b[43m,\u001b[49m\n\u001b[1;32m      4\u001b[0m \u001b[43m    \u001b[49m\u001b[43mlearning_rate\u001b[49m\u001b[38;5;241;43m=\u001b[39;49m\u001b[38;5;241;43m0.005\u001b[39;49m\u001b[43m,\u001b[49m\n\u001b[1;32m      5\u001b[0m \u001b[43m    \u001b[49m\u001b[43mweight_decay\u001b[49m\u001b[38;5;241;43m=\u001b[39;49m\u001b[38;5;241;43m0.005\u001b[39;49m\n\u001b[1;32m      6\u001b[0m \u001b[43m)\u001b[49m\n",
      "File \u001b[0;32m~/playlist_recommendation_system/models/training.py:50\u001b[0m, in \u001b[0;36mTrainer.train_with_weight_decay\u001b[0;34m(self, epochs, learning_rate, weight_decay)\u001b[0m\n\u001b[1;32m     47\u001b[0m     train_losses\u001b[38;5;241m.\u001b[39mappend(train_loss\u001b[38;5;241m.\u001b[39mitem())\n\u001b[1;32m     49\u001b[0m \u001b[38;5;28mself\u001b[39m\u001b[38;5;241m.\u001b[39mmodel\u001b[38;5;241m.\u001b[39meval()\n\u001b[0;32m---> 50\u001b[0m \u001b[38;5;28;01mfor\u001b[39;00m user_ids, item_ids, labels, weights \u001b[38;5;129;01min\u001b[39;00m \u001b[38;5;28mself\u001b[39m\u001b[38;5;241m.\u001b[39mval_loader:\n\u001b[1;32m     51\u001b[0m     user_ids \u001b[38;5;241m=\u001b[39m user_ids\u001b[38;5;241m.\u001b[39mto(\u001b[38;5;28mself\u001b[39m\u001b[38;5;241m.\u001b[39mdevice)\n\u001b[1;32m     52\u001b[0m     item_ids \u001b[38;5;241m=\u001b[39m item_ids\u001b[38;5;241m.\u001b[39mto(\u001b[38;5;28mself\u001b[39m\u001b[38;5;241m.\u001b[39mdevice)\n",
      "File \u001b[0;32m~/.local/lib/python3.10/site-packages/torch/utils/data/dataloader.py:631\u001b[0m, in \u001b[0;36m_BaseDataLoaderIter.__next__\u001b[0;34m(self)\u001b[0m\n\u001b[1;32m    628\u001b[0m \u001b[38;5;28;01mif\u001b[39;00m \u001b[38;5;28mself\u001b[39m\u001b[38;5;241m.\u001b[39m_sampler_iter \u001b[38;5;129;01mis\u001b[39;00m \u001b[38;5;28;01mNone\u001b[39;00m:\n\u001b[1;32m    629\u001b[0m     \u001b[38;5;66;03m# TODO(https://github.com/pytorch/pytorch/issues/76750)\u001b[39;00m\n\u001b[1;32m    630\u001b[0m     \u001b[38;5;28mself\u001b[39m\u001b[38;5;241m.\u001b[39m_reset()  \u001b[38;5;66;03m# type: ignore[call-arg]\u001b[39;00m\n\u001b[0;32m--> 631\u001b[0m data \u001b[38;5;241m=\u001b[39m \u001b[38;5;28;43mself\u001b[39;49m\u001b[38;5;241;43m.\u001b[39;49m\u001b[43m_next_data\u001b[49m\u001b[43m(\u001b[49m\u001b[43m)\u001b[49m\n\u001b[1;32m    632\u001b[0m \u001b[38;5;28mself\u001b[39m\u001b[38;5;241m.\u001b[39m_num_yielded \u001b[38;5;241m+\u001b[39m\u001b[38;5;241m=\u001b[39m \u001b[38;5;241m1\u001b[39m\n\u001b[1;32m    633\u001b[0m \u001b[38;5;28;01mif\u001b[39;00m \u001b[38;5;28mself\u001b[39m\u001b[38;5;241m.\u001b[39m_dataset_kind \u001b[38;5;241m==\u001b[39m _DatasetKind\u001b[38;5;241m.\u001b[39mIterable \u001b[38;5;129;01mand\u001b[39;00m \\\n\u001b[1;32m    634\u001b[0m         \u001b[38;5;28mself\u001b[39m\u001b[38;5;241m.\u001b[39m_IterableDataset_len_called \u001b[38;5;129;01mis\u001b[39;00m \u001b[38;5;129;01mnot\u001b[39;00m \u001b[38;5;28;01mNone\u001b[39;00m \u001b[38;5;129;01mand\u001b[39;00m \\\n\u001b[1;32m    635\u001b[0m         \u001b[38;5;28mself\u001b[39m\u001b[38;5;241m.\u001b[39m_num_yielded \u001b[38;5;241m>\u001b[39m \u001b[38;5;28mself\u001b[39m\u001b[38;5;241m.\u001b[39m_IterableDataset_len_called:\n",
      "File \u001b[0;32m~/.local/lib/python3.10/site-packages/torch/utils/data/dataloader.py:675\u001b[0m, in \u001b[0;36m_SingleProcessDataLoaderIter._next_data\u001b[0;34m(self)\u001b[0m\n\u001b[1;32m    673\u001b[0m \u001b[38;5;28;01mdef\u001b[39;00m \u001b[38;5;21m_next_data\u001b[39m(\u001b[38;5;28mself\u001b[39m):\n\u001b[1;32m    674\u001b[0m     index \u001b[38;5;241m=\u001b[39m \u001b[38;5;28mself\u001b[39m\u001b[38;5;241m.\u001b[39m_next_index()  \u001b[38;5;66;03m# may raise StopIteration\u001b[39;00m\n\u001b[0;32m--> 675\u001b[0m     data \u001b[38;5;241m=\u001b[39m \u001b[38;5;28;43mself\u001b[39;49m\u001b[38;5;241;43m.\u001b[39;49m\u001b[43m_dataset_fetcher\u001b[49m\u001b[38;5;241;43m.\u001b[39;49m\u001b[43mfetch\u001b[49m\u001b[43m(\u001b[49m\u001b[43mindex\u001b[49m\u001b[43m)\u001b[49m  \u001b[38;5;66;03m# may raise StopIteration\u001b[39;00m\n\u001b[1;32m    676\u001b[0m     \u001b[38;5;28;01mif\u001b[39;00m \u001b[38;5;28mself\u001b[39m\u001b[38;5;241m.\u001b[39m_pin_memory:\n\u001b[1;32m    677\u001b[0m         data \u001b[38;5;241m=\u001b[39m _utils\u001b[38;5;241m.\u001b[39mpin_memory\u001b[38;5;241m.\u001b[39mpin_memory(data, \u001b[38;5;28mself\u001b[39m\u001b[38;5;241m.\u001b[39m_pin_memory_device)\n",
      "\u001b[0;31mKeyboardInterrupt\u001b[0m: "
     ]
    }
   ],
   "source": [
    "trainer = Trainer(model, train_loader, val_loader, device)\n",
    "train_loss, val_loss = trainer.train_with_weight_decay(\n",
    "    epochs=15,\n",
    "    learning_rate=0.005,\n",
    "    weight_decay=0.005\n",
    ")"
   ]
  },
  {
   "cell_type": "code",
   "execution_count": 8,
   "id": "32e06199-d61b-4ad4-aff7-e36a0abdfd9a",
   "metadata": {},
   "outputs": [
    {
     "data": {
      "image/png": "[encoded data removed]",
      "text/plain": [
       "<Figure size 1000x600 with 1 Axes>"
      ]
     },
     "metadata": {},
     "output_type": "display_data"
    }
   ],
   "source": [
    "plt.figure(figsize=(10, 6))\n",
    "plt.plot(train_loss, 'b-', label='Training Loss')\n",
    "plt.plot(val_loss, 'r-', label='Validation Loss')\n",
    "plt.xlabel('Epoch')\n",
    "plt.ylabel('Loss')\n",
    "plt.title('Training and Validation Loss')\n",
    "plt.legend()\n",
    "plt.grid(True)\n",
    "plt.show()"
   ]
  },
  {
   "cell_type": "code",
   "execution_count": 11,
   "id": "3ef7a080-a327-474f-b3f7-bf34cfdcfaf7",
   "metadata": {},
   "outputs": [
    {
     "name": "stdout",
     "output_type": "stream",
     "text": [
      "Average user embedding norm: 0.33922964334487915\n",
      "Average item embedding norm: 0.9839776158332825\n"
     ]
    }
   ],
   "source": [
    "user_norms = torch.norm(model.user_embedding.weight, dim=1)\n",
    "avg_user_norm = torch.mean(user_norms) \n",
    "item_norms = torch.norm(model.item_embedding.weight, dim=1)\n",
    "avg_item_norm = torch.mean(item_norms)\n",
    "\n",
    "print(\"Average user embedding norm:\", avg_user_norm.item())\n",
    "print(\"Average item embedding norm:\", avg_item_norm.item())"
   ]
  },
  {
   "cell_type": "code",
   "execution_count": 10,
   "id": "5753b4aa-9d40-431f-bf38-9848fe93ce75",
   "metadata": {},
   "outputs": [],
   "source": [
    "checkpoint = {\n",
    "    'model_state_dict': model.state_dict(),\n",
    "    'model_config': {\n",
    "        'embedding_dim': model.user_embedding.embedding_dim,\n",
    "        'dropout_rate': model.dropout.p,\n",
    "        'bias': model.bias,\n",
    "        'sigmoid': model.sigmoid,\n",
    "    },\n",
    "    'user_encoder': user_encoder,\n",
    "    'track_encoder': track_encoder\n",
    "}\n",
    "\n",
    "torch.save(checkpoint, './model_files/wmf_model.pth')"
   ]
  },
  {
   "cell_type": "code",
   "execution_count": null,
   "id": "30c724aa-c36a-4177-b21e-efb163343a0f",
   "metadata": {},
   "outputs": [],
   "source": []
  }
 ],
 "metadata": {
  "kernelspec": {
   "display_name": "Python 3 (ipykernel)",
   "language": "python",
   "name": "python3"
  },
  "language_info": {
   "codemirror_mode": {
    "name": "ipython",
    "version": 3
   },
   "file_extension": ".py",
   "mimetype": "text/x-python",
   "name": "python",
   "nbconvert_exporter": "python",
   "pygments_lexer": "ipython3",
   "version": "3.10.12"
  }
 },
 "nbformat": 4,
 "nbformat_minor": 5
}
