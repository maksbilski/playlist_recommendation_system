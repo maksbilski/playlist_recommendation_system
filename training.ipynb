{
 "cells": [
  {
   "cell_type": "code",
   "execution_count": 1,
   "id": "3f616a39-4fe2-4d50-973b-3110e2c1723b",
   "metadata": {},
   "outputs": [],
   "source": [
    "from models.training import GMFTrainer\n",
    "from models.base_model import GMF\n",
    "from evaluation.evaluator import Evaluator\n",
    "import pandas as pd\n",
    "import torch"
   ]
  },
  {
   "cell_type": "code",
   "execution_count": 2,
   "id": "28cd2f5f-b277-482d-8954-37c2af386135",
   "metadata": {},
   "outputs": [],
   "source": [
    "sessions_train_df = pd.read_json('data_files/train_sessions.jsonl', lines=True)\n",
    "device = torch.device('cuda' if torch.cuda.is_available() else 'cpu')\n",
    "\n",
    "dataset = torch.utils.data.TensorDataset(\n",
    "    torch.LongTensor(sessions_train_df['user_id'].values).to(device),\n",
    "    torch.LongTensor(sessions_train_df['track_id'].values).to(device),\n",
    "    torch.FloatTensor(sessions_train_df['score'].values).to(device)\n",
    ")\n",
    "\n",
    "train_loader = torch.utils.data.DataLoader(\n",
    "    dataset,\n",
    "    batch_size=1024,\n",
    "    shuffle=True\n",
    ")\n",
    "\n",
    "unique_users_count = sessions_train_df['user_id'].nunique()\n",
    "unique_tracks_count = sessions_train_df['track_id'].nunique()"
   ]
  },
  {
   "cell_type": "code",
   "execution_count": 3,
   "id": "c0cdc5f9-2dc6-40a2-8b3e-ecf8e93b7ecb",
   "metadata": {},
   "outputs": [],
   "source": [
    "gmf = GMF(unique_users_count, unique_tracks_count, 64)\n",
    "gmf_trainer = GMFTrainer(gmf, train_loader, device)"
   ]
  },
  {
   "cell_type": "code",
   "execution_count": 4,
   "id": "46fc7882-cf69-49e9-a234-82ca20db6ecd",
   "metadata": {},
   "outputs": [
    {
     "name": "stdout",
     "output_type": "stream",
     "text": [
      "Epoch 1/10 - Average Loss: 0.0564\n",
      "Epoch 2/10 - Average Loss: 0.0390\n",
      "Epoch 3/10 - Average Loss: 0.0325\n",
      "Epoch 4/10 - Average Loss: 0.0304\n",
      "Epoch 5/10 - Average Loss: 0.0297\n",
      "Epoch 6/10 - Average Loss: 0.0294\n",
      "Epoch 7/10 - Average Loss: 0.0294\n",
      "Epoch 8/10 - Average Loss: 0.0293\n",
      "Epoch 9/10 - Average Loss: 0.0293\n",
      "Epoch 10/10 - Average Loss: 0.0293\n"
     ]
    }
   ],
   "source": [
    "gmf_trainer.train(10, 0.005)"
   ]
  },
  {
   "cell_type": "code",
   "execution_count": 5,
   "id": "a6b28b0e-e5bb-4b61-8c69-98f637d8001d",
   "metadata": {},
   "outputs": [],
   "source": [
    "ground_truth_df = pd.read_json('data_files/val_sessions.jsonl', lines=True)\n",
    "all_users = torch.arange(unique_users_count).to(device)\n",
    "all_items = torch.arange(unique_tracks_count).to(device)\n",
    "all_pairs = torch.cartesian_prod(all_users, all_items)\n",
    "user_input = all_pairs[:,0]\n",
    "item_input = all_pairs[:,1]"
   ]
  },
  {
   "cell_type": "code",
   "execution_count": 6,
   "id": "09c35eb8-45f7-43ed-a2c8-39e392fb317d",
   "metadata": {},
   "outputs": [],
   "source": [
    "predictions = []\n",
    "batch_size = 10000\n",
    "\n",
    "for i in range(0, len(all_pairs), batch_size):\n",
    "    batch_pairs = all_pairs[i:i + batch_size]\n",
    "    batch_user_input = batch_pairs[:,0].to(device)\n",
    "    batch_item_input = batch_pairs[:,1].to(device)\n",
    "    \n",
    "    with torch.no_grad():\n",
    "        batch_predictions = gmf.forward(batch_user_input, batch_item_input)\n",
    "        predictions.append(batch_predictions)\n",
    "\n",
    "all_predictions = torch.cat(predictions)"
   ]
  },
  {
   "cell_type": "code",
   "execution_count": 7,
   "id": "0120ce8f-10e6-4711-9ea4-79f30443e7c0",
   "metadata": {},
   "outputs": [],
   "source": [
    "all_pairs_np = all_pairs.cpu().numpy()\n",
    "all_predictions_np = all_predictions.cpu().numpy()\n",
    "\n",
    "recommendations_df = pd.DataFrame({\n",
    "    'user_id': all_pairs_np[:, 0],\n",
    "    'track_id': all_pairs_np[:, 1],\n",
    "    'score': all_predictions_np\n",
    "})"
   ]
  },
  {
   "cell_type": "code",
   "execution_count": 8,
   "id": "10820d4b-fb46-4d65-b756-718a8ec1da9a",
   "metadata": {},
   "outputs": [],
   "source": [
    "evaluator2 = Evaluator([5, 10, 20, 30, 50])"
   ]
  },
  {
   "cell_type": "code",
   "execution_count": 9,
   "id": "025e881b-5bc6-44ab-9fcc-70afc573277f",
   "metadata": {},
   "outputs": [
    {
     "name": "stdout",
     "output_type": "stream",
     "text": [
      "        user_id  track_id     score\n",
      "0             0       508  0.750260\n",
      "1             0      1884  0.750260\n",
      "2             0      2140  0.289050\n",
      "3             0        12  0.289050\n",
      "4             0      1890  0.750260\n",
      "...         ...       ...       ...\n",
      "357306     2998      2392  0.524979\n",
      "357307     2998      5661  0.750260\n",
      "357308     2998      1622  0.750260\n",
      "357309     2998       499  0.750260\n",
      "357310     2998      4363  0.289050\n",
      "\n",
      "[357311 rows x 3 columns]\n"
     ]
    }
   ],
   "source": [
    "print(ground_truth_df)"
   ]
  },
  {
   "cell_type": "code",
   "execution_count": null,
   "id": "81b16e75-f138-4e50-b6b7-4819762385bd",
   "metadata": {},
   "outputs": [],
   "source": [
    "metrics = evaluator2.evaluate(recommendations_df, ground_truth_df)"
   ]
  },
  {
   "cell_type": "code",
   "execution_count": null,
   "id": "6ee2e449-7e84-4b90-87bd-ac20801b02f3",
   "metadata": {},
   "outputs": [],
   "source": []
  }
 ],
 "metadata": {
  "kernelspec": {
   "display_name": "Python 3 (ipykernel)",
   "language": "python",
   "name": "python3"
  },
  "language_info": {
   "codemirror_mode": {
    "name": "ipython",
    "version": 3
   },
   "file_extension": ".py",
   "mimetype": "text/x-python",
   "name": "python",
   "nbconvert_exporter": "python",
   "pygments_lexer": "ipython3",
   "version": "3.10.12"
  }
 },
 "nbformat": 4,
 "nbformat_minor": 5
}
