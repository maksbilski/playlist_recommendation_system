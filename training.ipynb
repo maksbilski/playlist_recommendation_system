{
 "cells": [
  {
   "cell_type": "code",
   "execution_count": 1,
   "id": "1e1f3e72-6727-4639-b677-5cd126797dcb",
   "metadata": {},
   "outputs": [],
   "source": [
    "from models.base_model import GMF\n",
    "\n",
    "import pandas as pd"
   ]
  },
  {
   "cell_type": "code",
   "execution_count": 2,
   "id": "b467971d-775a-4590-87d0-46d056e21df9",
   "metadata": {},
   "outputs": [],
   "source": [
    "sessions_df = pd.read_json('data_files/sessions.jsonl', lines=True)"
   ]
  },
  {
   "cell_type": "code",
   "execution_count": 3,
   "id": "69a47568-e421-4249-82b6-2133a485da09",
   "metadata": {},
   "outputs": [
    {
     "name": "stdout",
     "output_type": "stream",
     "text": [
      "3000 12303\n"
     ]
    }
   ],
   "source": [
    "unique_users_count = sessions_df['user_id'].nunique()\n",
    "unique_tracks_count = sessions_df['track_id'].nunique()\n",
    "print(unique_users_count, unique_tracks_count)"
   ]
  },
  {
   "cell_type": "code",
   "execution_count": 10,
   "id": "28cd2f5f-b277-482d-8954-37c2af386135",
   "metadata": {},
   "outputs": [],
   "source": [
    "from models.training import GMFTrainer\n",
    "\n",
    "sessions_train_df = pd.read_json('data_files/train_sessions.jsonl', lines=True)\n",
    "\n",
    "model = GMF(unique_users_count, unique_tracks_count)\n",
    "gmf_trainer = GMFTrainer("
   ]
  }
 ],
 "metadata": {
  "kernelspec": {
   "display_name": "Python 3 (ipykernel)",
   "language": "python",
   "name": "python3"
  },
  "language_info": {
   "codemirror_mode": {
    "name": "ipython",
    "version": 3
   },
   "file_extension": ".py",
   "mimetype": "text/x-python",
   "name": "python",
   "nbconvert_exporter": "python",
   "pygments_lexer": "ipython3",
   "version": "3.12.4"
  }
 },
 "nbformat": 4,
 "nbformat_minor": 5
}
