{
 "cells": [
  {
   "cell_type": "code",
   "execution_count": 1,
   "id": "287f830e-1022-4f32-8905-af2d4e597155",
   "metadata": {},
   "outputs": [],
   "source": [
    "import torch\n",
    "import torch.nn as nn\n",
    "import torch.optim as optim\n",
    "import numpy as np\n",
    "\n",
    "device = torch.device('cuda' if torch.cuda.is_available() else 'cpu')\n",
    "\n",
    "class GMF(nn.Module):\n",
    "    def __init__(self, n_users, n_items, embedding_dim=8):\n",
    "        super(GMF, self).__init__()\n",
    "        \n",
    "        self.user_embedding = nn.Embedding(num_embeddings=n_users, embedding_dim=embedding_dim)\n",
    "        self.item_embedding = nn.Embedding(num_embeddings=n_items, embedding_dim=embedding_dim)\n",
    "        \n",
    "        self.output_layer = nn.Linear(in_features=embedding_dim, out_features=1)\n",
    "        \n",
    "        self.sigmoid = nn.Sigmoid()\n",
    "        \n",
    "    def forward(self, user_input, item_input):\n",
    "        user_embedded = self.user_embedding(user_input)\n",
    "        item_embedded = self.item_embedding(item_input)\n",
    "        \n",
    "        element_product = torch.mul(user_embedded, item_embedded)\n",
    "        \n",
    "        output = self.output_layer(element_product)\n",
    "        \n",
    "        prediction = self.sigmoid(output)\n",
    "        \n",
    "        return prediction.squeeze()\n",
    "\n",
    "def train_gmf(model, train_loader, epochs=10, learning_rate=0.001):\n",
    "    model = model.to(device)\n",
    "    criterion = nn.MSELoss()\n",
    "    optimizer = optim.SGD(model.parameters(), lr=learning_rate)    \n",
    "    for epoch in range(epochs):\n",
    "        model.train()\n",
    "        total_loss = 0\n",
    "        \n",
    "        for batch_idx, (user_ids, item_ids, labels) in enumerate(train_loader):\n",
    "            predictions = model(user_ids, item_ids)\n",
    "            loss = criterion(predictions, labels)\n",
    "            \n",
    "            optimizer.zero_grad()\n",
    "            loss.backward()\n",
    "            optimizer.step()\n",
    "            \n",
    "            total_loss += loss.item()\n",
    "            \n",
    "        avg_loss = total_loss / len(train_loader)\n",
    "        print(f'Epoch {epoch+1}/{epochs} - Average Loss: {avg_loss:.4f}')"
   ]
  },
  {
   "cell_type": "code",
   "execution_count": 2,
   "id": "6a4ac1e3-5d33-4639-8123-290df4e37a3f",
   "metadata": {},
   "outputs": [],
   "source": [
    "import json\n",
    "import pandas as pd\n",
    "from collections import defaultdict\n",
    "\n",
    "class SessionDataProcessor:\n",
    "    def __init__(self):\n",
    "        self.user_mapping = {}\n",
    "        self.track_mapping = {}\n",
    "        self.next_user_id = 0\n",
    "        self.next_track_id = 0\n",
    "        \n",
    "    def _map_user_id(self, original_user_id):\n",
    "       if original_user_id not in self.user_mapping:\n",
    "           self.user_mapping[original_user_id] = self.next_user_id\n",
    "           self.next_user_id += 1\n",
    "       return self.user_mapping[original_user_id]\n",
    "    \n",
    "    def _map_track_id(self, original_track_id):\n",
    "       if original_track_id not in self.track_mapping:\n",
    "           self.track_mapping[original_track_id] = self.next_track_id \n",
    "           self.next_track_id += 1\n",
    "       return self.track_mapping[original_track_id]\n",
    "    \n",
    "    def process_sessions(self, sessions_file):\n",
    "        interactions = defaultdict(list)\n",
    "        \n",
    "        for line in sessions_file:\n",
    "            session = json.loads(line)\n",
    "            user_id = self._map_user_id(session['user_id'])\n",
    "            track_id = self._map_track_id(session['track_id'])\n",
    "            \n",
    "            interactions[(user_id, track_id)].append(session['event_type'])\n",
    "            \n",
    "        training_data = []\n",
    "        for (user_id, track_id), events in interactions.items():\n",
    "            score = self._calculate_interaction_score(events)\n",
    "            training_data.append((user_id, track_id, score))\n",
    "            \n",
    "        return pd.DataFrame(training_data, columns=['user_id', 'track_id', 'score'])\n",
    "    \n",
    "    def _calculate_interaction_score(self, events):\n",
    "        score = sum(-0.5 if e == 'skip' else 0.5 if e == 'play' else 1.0 if e == 'like' else 0 for e in events)\n",
    "        return 1 / (1 + np.exp(-score))\n",
    "    \n",
    "    @property\n",
    "    def n_users(self):\n",
    "        return len(self.user_mapping)\n",
    "        \n",
    "    @property\n",
    "    def n_tracks(self):\n",
    "        return len(self.track_mapping)\n",
    "\n",
    "processor = SessionDataProcessor()\n",
    "with open('data/sessions.jsonl', 'r') as f:\n",
    "    training_df = processor.process_sessions(f)"
   ]
  },
  {
   "cell_type": "code",
   "execution_count": 3,
   "id": "f4d0cfc3-9230-482f-8ad7-818900a8e338",
   "metadata": {},
   "outputs": [],
   "source": [
    "dataset = torch.utils.data.TensorDataset(\n",
    "    torch.LongTensor(training_df['user_id'].values).to(device),\n",
    "    torch.LongTensor(training_df['track_id'].values).to(device),\n",
    "    torch.FloatTensor(training_df['score'].values).to(device)\n",
    ")"
   ]
  },
  {
   "cell_type": "code",
   "execution_count": 4,
   "id": "260b1218-4155-455b-a18f-d138ad6a0b52",
   "metadata": {},
   "outputs": [],
   "source": [
    "model = GMF(\n",
    "    n_users=processor.n_users,\n",
    "    n_items=processor.n_tracks\n",
    ")"
   ]
  },
  {
   "cell_type": "code",
   "execution_count": 5,
   "id": "b76a142d-980c-4eba-9c38-48527fe129d9",
   "metadata": {},
   "outputs": [],
   "source": [
    "train_loader = torch.utils.data.DataLoader(\n",
    "    dataset,\n",
    "    batch_size=64,\n",
    "    shuffle=True\n",
    ")"
   ]
  },
  {
   "cell_type": "code",
   "execution_count": null,
   "id": "f27032b4-7c1e-40d6-89ed-d82e5e4283cd",
   "metadata": {},
   "outputs": [
    {
     "name": "stdout",
     "output_type": "stream",
     "text": [
      "Epoch 1/50 - Average Loss: 0.0170\n",
      "Epoch 2/50 - Average Loss: 0.0170\n",
      "Epoch 3/50 - Average Loss: 0.0170\n",
      "Epoch 4/50 - Average Loss: 0.0170\n",
      "Epoch 5/50 - Average Loss: 0.0170\n",
      "Epoch 6/50 - Average Loss: 0.0170\n",
      "Epoch 7/50 - Average Loss: 0.0170\n",
      "Epoch 8/50 - Average Loss: 0.0170\n"
     ]
    }
   ],
   "source": [
    "train_gmf(model, train_loader, 50, 0.005)"
   ]
  },
  {
   "cell_type": "code",
   "execution_count": 7,
   "id": "401df70b-d0c4-41fa-99cd-a90031d1334a",
   "metadata": {},
   "outputs": [
    {
     "name": "stdout",
     "output_type": "stream",
     "text": [
      "True\n"
     ]
    }
   ],
   "source": [
    "print(torch.cuda.is_available())"
   ]
  },
  {
   "cell_type": "code",
   "execution_count": null,
   "id": "e4fd0148-d0ba-43bd-8061-ef027ef17397",
   "metadata": {},
   "outputs": [],
   "source": []
  }
 ],
 "metadata": {
  "kernelspec": {
   "display_name": "Python 3 (ipykernel)",
   "language": "python",
   "name": "python3"
  },
  "language_info": {
   "codemirror_mode": {
    "name": "ipython",
    "version": 3
   },
   "file_extension": ".py",
   "mimetype": "text/x-python",
   "name": "python",
   "nbconvert_exporter": "python",
   "pygments_lexer": "ipython3",
   "version": "3.10.12"
  }
 },
 "nbformat": 4,
 "nbformat_minor": 5
}
