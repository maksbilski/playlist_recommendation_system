{
 "cells": [
  {
   "cell_type": "code",
   "execution_count": 29,
   "id": "287f830e-1022-4f32-8905-af2d4e597155",
   "metadata": {},
   "outputs": [],
   "source": [
    "import torch\n",
    "import torch.nn as nn\n",
    "import torch.optim as optim\n",
    "import numpy as np\n",
    "\n",
    "class GMF(nn.Module):\n",
    "    def __init__(self, n_users, n_items, embedding_dim=8):\n",
    "        super(GMF, self).__init__()\n",
    "        \n",
    "        self.user_embedding = nn.Embedding(num_embeddings=n_users, embedding_dim=embedding_dim)\n",
    "        self.item_embedding = nn.Embedding(num_embeddings=n_items, embedding_dim=embedding_dim)\n",
    "        \n",
    "        self.output_layer = nn.Linear(in_features=embedding_dim, out_features=1)\n",
    "        \n",
    "        self.sigmoid = nn.Sigmoid()\n",
    "        \n",
    "    def forward(self, user_input, item_input):\n",
    "        user_embedded = self.user_embedding(user_input)\n",
    "        item_embedded = self.item_embedding(item_input)\n",
    "        \n",
    "        element_product = torch.mul(user_embedded, item_embedded)\n",
    "        \n",
    "        output = self.output_layer(element_product)\n",
    "        \n",
    "        prediction = self.sigmoid(output)\n",
    "        \n",
    "        return prediction.squeeze()\n",
    "\n",
    "def train_gmf(model, train_loader, epochs=10, learning_rate=0.001):\n",
    "    criterion = nn.MSELoss()\n",
    "    optimizer = optim.SGD(model.parameters(), lr=learning_rate)    \n",
    "    for epoch in range(epochs):\n",
    "        model.train()\n",
    "        total_loss = 0\n",
    "        \n",
    "        for batch_idx, (user_ids, item_ids, labels) in enumerate(train_loader):\n",
    "            predictions = model(user_ids, item_ids)\n",
    "            loss = criterion(predictions, labels)\n",
    "            \n",
    "            optimizer.zero_grad()\n",
    "            loss.backward()\n",
    "            optimizer.step()\n",
    "            \n",
    "            total_loss += loss.item()\n",
    "            \n",
    "        avg_loss = total_loss / len(train_loader)\n",
    "        print(f'Epoch {epoch+1}/{epochs} - Average Loss: {avg_loss:.4f}')\n",
    "\n",
    "def create_and_train_model(n_users, n_items, train_data):\n",
    "    model = GMF(n_users=n_users, n_items=n_items)\n",
    "    \n",
    "    train_loader = torch.utils.data.DataLoader(\n",
    "        train_data,\n",
    "        batch_size=64,\n",
    "        shuffle=True\n",
    "    )\n",
    "    \n",
    "    train_gmf(model, train_loader)\n",
    "    \n",
    "    return model"
   ]
  },
  {
   "cell_type": "code",
   "execution_count": 26,
   "id": "6a4ac1e3-5d33-4639-8123-290df4e37a3f",
   "metadata": {},
   "outputs": [
    {
     "ename": "NameError",
     "evalue": "name 'user_id' is not defined",
     "output_type": "error",
     "traceback": [
      "\u001b[0;31m---------------------------------------------------------------------------\u001b[0m",
      "\u001b[0;31mNameError\u001b[0m                                 Traceback (most recent call last)",
      "Cell \u001b[0;32mIn[26], line 57\u001b[0m\n\u001b[1;32m     54\u001b[0m \u001b[38;5;28;01mwith\u001b[39;00m \u001b[38;5;28mopen\u001b[39m(\u001b[38;5;124m'\u001b[39m\u001b[38;5;124msessions.jsonl\u001b[39m\u001b[38;5;124m'\u001b[39m, \u001b[38;5;124m'\u001b[39m\u001b[38;5;124mr\u001b[39m\u001b[38;5;124m'\u001b[39m) \u001b[38;5;28;01mas\u001b[39;00m f:\n\u001b[1;32m     55\u001b[0m     training_df \u001b[38;5;241m=\u001b[39m processor\u001b[38;5;241m.\u001b[39mprocess_sessions(f)\n\u001b[0;32m---> 57\u001b[0m \u001b[38;5;28mprint\u001b[39m(\u001b[38;5;28mlen\u001b[39m(training_df[user_id]\u001b[38;5;241m.\u001b[39munique()))\n\u001b[1;32m     58\u001b[0m \u001b[38;5;28mprint\u001b[39m(\u001b[38;5;28mlen\u001b[39m(training_df[track_id]\u001b[38;5;241m.\u001b[39munique()))\n",
      "\u001b[0;31mNameError\u001b[0m: name 'user_id' is not defined"
     ]
    }
   ],
   "source": [
    "import json\n",
    "import pandas as pd\n",
    "from collections import defaultdict\n",
    "\n",
    "class SessionDataProcessor:\n",
    "    def __init__(self):\n",
    "        self.user_mapping = {}\n",
    "        self.track_mapping = {}\n",
    "        self.next_user_id = 0\n",
    "        self.next_track_id = 0\n",
    "        \n",
    "    def _map_user_id(self, original_user_id):\n",
    "       if original_user_id not in self.user_mapping:\n",
    "           self.user_mapping[original_user_id] = self.next_user_id\n",
    "           self.next_user_id += 1\n",
    "       return self.user_mapping[original_user_id]\n",
    "    \n",
    "    def _map_track_id(self, original_track_id):\n",
    "       if original_track_id not in self.track_mapping:\n",
    "           self.track_mapping[original_track_id] = self.next_track_id \n",
    "           self.next_track_id += 1\n",
    "       return self.track_mapping[original_track_id]\n",
    "    \n",
    "    def process_sessions(self, sessions_file):\n",
    "        interactions = defaultdict(list)\n",
    "        \n",
    "        for line in sessions_file:\n",
    "            session = json.loads(line)\n",
    "            user_id = self._map_user_id(session['user_id'])\n",
    "            track_id = self._map_track_id(session['track_id'])\n",
    "            \n",
    "            interactions[(user_id, track_id)].append(session['event_type'])\n",
    "            \n",
    "        training_data = []\n",
    "        for (user_id, track_id), events in interactions.items():\n",
    "            score = self._calculate_interaction_score(events)\n",
    "            training_data.append((user_id, track_id, score))\n",
    "            \n",
    "        return pd.DataFrame(training_data, columns=['user_id', 'track_id', 'score'])\n",
    "    \n",
    "    def _calculate_interaction_score(self, events):\n",
    "        score = sum(-0.5 if e == 'skip' else 0.5 if e == 'play' else 1.0 if e == 'like' else 0 for e in events)\n",
    "        return 1 / (1 + np.exp(-score))\n",
    "    \n",
    "    @property\n",
    "    def n_users(self):\n",
    "        return len(self.user_mapping)\n",
    "        \n",
    "    @property\n",
    "    def n_tracks(self):\n",
    "        return len(self.track_mapping)\n",
    "\n",
    "processor = SessionDataProcessor()\n",
    "with open('sessions.jsonl', 'r') as f:\n",
    "    training_df = processor.process_sessions(f)"
   ]
  },
  {
   "cell_type": "code",
   "execution_count": 30,
   "id": "f4d0cfc3-9230-482f-8ad7-818900a8e338",
   "metadata": {},
   "outputs": [],
   "source": [
    "dataset = torch.utils.data.TensorDataset(\n",
    "    torch.LongTensor(training_df['user_id'].values),\n",
    "    torch.LongTensor(training_df['track_id'].values),\n",
    "    torch.FloatTensor(training_df['score'].values)\n",
    ")"
   ]
  },
  {
   "cell_type": "code",
   "execution_count": 31,
   "id": "260b1218-4155-455b-a18f-d138ad6a0b52",
   "metadata": {},
   "outputs": [],
   "source": [
    "model = GMF(\n",
    "    n_users=processor.n_users,\n",
    "    n_items=processor.n_tracks\n",
    ")"
   ]
  },
  {
   "cell_type": "code",
   "execution_count": 33,
   "id": "b76a142d-980c-4eba-9c38-48527fe129d9",
   "metadata": {},
   "outputs": [],
   "source": [
    "train_loader = torch.utils.data.DataLoader(\n",
    "    dataset,\n",
    "    batch_size=64,\n",
    "    shuffle=True\n",
    ")"
   ]
  },
  {
   "cell_type": "code",
   "execution_count": 35,
   "id": "f27032b4-7c1e-40d6-89ed-d82e5e4283cd",
   "metadata": {},
   "outputs": [
    {
     "name": "stderr",
     "output_type": "stream",
     "text": [
      "/home/bilski/anaconda3/lib/python3.12/site-packages/torch/nn/modules/loss.py:535: UserWarning: Using a target size (torch.Size([1])) that is different to the input size (torch.Size([])). This will likely lead to incorrect results due to broadcasting. Please ensure they have the same size.\n",
      "  return F.mse_loss(input, target, reduction=self.reduction)\n"
     ]
    },
    {
     "name": "stdout",
     "output_type": "stream",
     "text": [
      "Epoch 1/10 - Average Loss: 0.0246\n",
      "Epoch 2/10 - Average Loss: 0.0171\n",
      "Epoch 3/10 - Average Loss: 0.0170\n",
      "Epoch 4/10 - Average Loss: 0.0170\n",
      "Epoch 5/10 - Average Loss: 0.0170\n",
      "Epoch 6/10 - Average Loss: 0.0170\n",
      "Epoch 7/10 - Average Loss: 0.0170\n",
      "Epoch 8/10 - Average Loss: 0.0170\n",
      "Epoch 9/10 - Average Loss: 0.0170\n",
      "Epoch 10/10 - Average Loss: 0.0170\n"
     ]
    }
   ],
   "source": [
    "train_gmf(model, train_loader)"
   ]
  }
 ],
 "metadata": {
  "kernelspec": {
   "display_name": "Python 3 (ipykernel)",
   "language": "python",
   "name": "python3"
  },
  "language_info": {
   "codemirror_mode": {
    "name": "ipython",
    "version": 3
   },
   "file_extension": ".py",
   "mimetype": "text/x-python",
   "name": "python",
   "nbconvert_exporter": "python",
   "pygments_lexer": "ipython3",
   "version": "3.12.4"
  }
 },
 "nbformat": 4,
 "nbformat_minor": 5
}
